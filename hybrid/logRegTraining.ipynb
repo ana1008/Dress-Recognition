{
  "nbformat": 4,
  "nbformat_minor": 0,
  "metadata": {
    "colab": {
      "name": "logRegTraining.ipynb",
      "provenance": [],
      "collapsed_sections": [],
      "toc_visible": true
    },
    "kernelspec": {
      "name": "python3",
      "display_name": "Python 3"
    },
    "accelerator": "GPU"
  },
  "cells": [
    {
      "cell_type": "code",
      "metadata": {
        "id": "m47MwrkgjV0Y",
        "colab_type": "code",
        "outputId": "01873188-ed1a-4f2c-de2a-28a97d045947",
        "colab": {
          "base_uri": "https://localhost:8080/",
          "height": 122
        }
      },
      "source": [
        "from google.colab import drive\n",
        "drive.mount('/content/drive')"
      ],
      "execution_count": 0,
      "outputs": [
        {
          "output_type": "stream",
          "text": [
            "Go to this URL in a browser: https://accounts.google.com/o/oauth2/auth?client_id=947318989803-6bn6qk8qdgf4n4g3pfee6491hc0brc4i.apps.googleusercontent.com&redirect_uri=urn%3aietf%3awg%3aoauth%3a2.0%3aoob&response_type=code&scope=email%20https%3a%2f%2fwww.googleapis.com%2fauth%2fdocs.test%20https%3a%2f%2fwww.googleapis.com%2fauth%2fdrive%20https%3a%2f%2fwww.googleapis.com%2fauth%2fdrive.photos.readonly%20https%3a%2f%2fwww.googleapis.com%2fauth%2fpeopleapi.readonly\n",
            "\n",
            "Enter your authorization code:\n",
            "··········\n",
            "Mounted at /content/drive\n"
          ],
          "name": "stdout"
        }
      ]
    },
    {
      "cell_type": "code",
      "metadata": {
        "id": "xtQNZOPUjkh7",
        "colab_type": "code",
        "outputId": "69e95a5f-2c77-46d7-8f58-766c61218fa8",
        "colab": {
          "base_uri": "https://localhost:8080/",
          "height": 105
        }
      },
      "source": [
        "pip install split-folders"
      ],
      "execution_count": 0,
      "outputs": [
        {
          "output_type": "stream",
          "text": [
            "Collecting split-folders\n",
            "  Downloading https://files.pythonhosted.org/packages/20/67/29dda743e6d23ac1ea3d16704d8bbb48d65faf3f1b1eaf53153b3da56c56/split_folders-0.3.1-py3-none-any.whl\n",
            "Installing collected packages: split-folders\n",
            "Successfully installed split-folders-0.3.1\n"
          ],
          "name": "stdout"
        }
      ]
    },
    {
      "cell_type": "code",
      "metadata": {
        "id": "QwSBqnSsjo05",
        "colab_type": "code",
        "outputId": "ab5ee4d6-c21b-40e3-81af-deeffcd06ea5",
        "colab": {
          "base_uri": "https://localhost:8080/",
          "height": 34
        }
      },
      "source": [
        "import numpy as np\n",
        "from keras.preprocessing.image import ImageDataGenerator\n",
        "from keras.models import Sequential\n",
        "from keras.layers import Input, Lambda, Dense, Flatten\n",
        "from keras.models import Model\n",
        "from keras.applications.vgg16 import VGG16\n",
        "from keras.applications.vgg16 import preprocess_input\n",
        "from keras.preprocessing import image\n",
        "import split_folders\n",
        "import glob\n",
        "import os\n",
        "from PIL import Image\n",
        "import matplotlib.pyplot as plt\n",
        "\n",
        "from keras.models import model_from_json\n",
        "import pickle"
      ],
      "execution_count": 0,
      "outputs": [
        {
          "output_type": "stream",
          "text": [
            "Using TensorFlow backend.\n"
          ],
          "name": "stderr"
        }
      ]
    },
    {
      "cell_type": "code",
      "metadata": {
        "id": "ZOfcrvnyjrBR",
        "colab_type": "code",
        "colab": {}
      },
      "source": [
        "driveZip = '/content/drive/My Drive/temp/cropped_images.zip'\n",
        "train_path = '/content/output/train/'\n",
        "valid_path = '/content/output/val/'\n",
        "\n",
        "\n",
        "image_types = [\"kurti\",\"none\",\"saree\",\"shirt\",\"tshirt\"]\n",
        "batch_size = 32\n",
        "image_size = [224,224]\n",
        "num_classes = 4"
      ],
      "execution_count": 0,
      "outputs": []
    },
    {
      "cell_type": "code",
      "metadata": {
        "id": "HggecM8Yk6m5",
        "colab_type": "code",
        "colab": {}
      },
      "source": [
        "import zipfile\n",
        "with zipfile.ZipFile(driveZip,'r') as zip_dir:\n",
        "    zip_dir.extractall(path='/content/')"
      ],
      "execution_count": 0,
      "outputs": []
    },
    {
      "cell_type": "code",
      "metadata": {
        "id": "Ex6Bol99k9RZ",
        "colab_type": "code",
        "outputId": "1c72afc7-0c92-4c56-e287-bd2ecec7c09e",
        "colab": {
          "base_uri": "https://localhost:8080/",
          "height": 34
        }
      },
      "source": [
        "split_folders.ratio('cropped_images', output=\"output\", seed=1337, ratio= (.8,.2)) # default values"
      ],
      "execution_count": 0,
      "outputs": [
        {
          "output_type": "stream",
          "text": [
            "Copying files: 6383 files [00:02, 3143.71 files/s]\n"
          ],
          "name": "stderr"
        }
      ]
    },
    {
      "cell_type": "code",
      "metadata": {
        "id": "FNBlM3Z2mdPR",
        "colab_type": "code",
        "colab": {}
      },
      "source": [
        "# Image size should be [224,224]\n",
        "# Iterate through each color folder\n",
        "\n",
        "def resize_images(image_dir):\n",
        "  for im_type in image_types:\n",
        "    # Iterate through each image file in each image_type folder\n",
        "    #  glob reads in any image with the extension \"image_dir/im_type/*\"\n",
        "    for file in glob.glob(os.path.join(image_dir, im_type, \"*\")):\n",
        "        im = Image.open(file)\n",
        "        f, e = os.path.splitext(file)\n",
        "        imResize = im.resize((224,224), Image.ANTIALIAS)\n",
        "        imResize.save(f + '.png', 'PNG', quality=90)\n",
        "\n",
        "resize_images('/content/output/val')\n",
        "resize_images('/content/output/train')"
      ],
      "execution_count": 0,
      "outputs": []
    },
    {
      "cell_type": "code",
      "metadata": {
        "id": "Zx30S9zKlUFS",
        "colab_type": "code",
        "outputId": "fb03e2d9-5872-4422-ef6f-51e9d89021e3",
        "colab": {
          "base_uri": "https://localhost:8080/",
          "height": 34
        }
      },
      "source": [
        "!rm -r NOA\n",
        "!mkdir NOA\n",
        "\n",
        "!mkdir NOA/train\n",
        "!mkdir NOA/train/none\n",
        "!cp -r '/content/output/train/none/' '/content/NOA/train/'\n",
        "!rm -r /content/output/train/none\n",
        "\n",
        "!mkdir NOA/val\n",
        "!mkdir NOA/val/none\n",
        "!cp -r '/content/output/val/none/' '/content/NOA/val/'\n",
        "!rm -r /content/output/val/none"
      ],
      "execution_count": 0,
      "outputs": [
        {
          "output_type": "stream",
          "text": [
            "rm: cannot remove 'NOA': No such file or directory\n"
          ],
          "name": "stdout"
        }
      ]
    },
    {
      "cell_type": "code",
      "metadata": {
        "id": "zOJ1nUI3mxHZ",
        "colab_type": "code",
        "colab": {}
      },
      "source": [
        "!cp '/content/drive/My Drive/temp/VGG/secondLastModel.json' '/content/'\n",
        "!cp '/content/drive/My Drive/temp/VGG/secondLastModel.h5' '/content/'"
      ],
      "execution_count": 0,
      "outputs": []
    },
    {
      "cell_type": "code",
      "metadata": {
        "id": "w1Pg0D1PmPCy",
        "colab_type": "code",
        "outputId": "f8e02dd7-fbca-4fb8-874b-0443781dd613",
        "colab": {
          "base_uri": "https://localhost:8080/",
          "height": 901
        }
      },
      "source": [
        "json_file = open('secondLastModel.json', 'r')\n",
        "loaded_model_json = json_file.read()\n",
        "json_file.close()\n",
        "model = model_from_json(loaded_model_json)\n",
        "\n",
        "model.load_weights(\"secondLastModel.h5\")\n",
        "model.summary()"
      ],
      "execution_count": 0,
      "outputs": [
        {
          "output_type": "stream",
          "text": [
            "Model: \"model_6\"\n",
            "_________________________________________________________________\n",
            "Layer (type)                 Output Shape              Param #   \n",
            "=================================================================\n",
            "input_2 (InputLayer)         (None, 224, 224, 3)       0         \n",
            "_________________________________________________________________\n",
            "block1_conv1 (Conv2D)        (None, 224, 224, 64)      1792      \n",
            "_________________________________________________________________\n",
            "block1_conv2 (Conv2D)        (None, 224, 224, 64)      36928     \n",
            "_________________________________________________________________\n",
            "block1_pool (MaxPooling2D)   (None, 112, 112, 64)      0         \n",
            "_________________________________________________________________\n",
            "block2_conv1 (Conv2D)        (None, 112, 112, 128)     73856     \n",
            "_________________________________________________________________\n",
            "block2_conv2 (Conv2D)        (None, 112, 112, 128)     147584    \n",
            "_________________________________________________________________\n",
            "block2_pool (MaxPooling2D)   (None, 56, 56, 128)       0         \n",
            "_________________________________________________________________\n",
            "block3_conv1 (Conv2D)        (None, 56, 56, 256)       295168    \n",
            "_________________________________________________________________\n",
            "block3_conv2 (Conv2D)        (None, 56, 56, 256)       590080    \n",
            "_________________________________________________________________\n",
            "block3_conv3 (Conv2D)        (None, 56, 56, 256)       590080    \n",
            "_________________________________________________________________\n",
            "block3_pool (MaxPooling2D)   (None, 28, 28, 256)       0         \n",
            "_________________________________________________________________\n",
            "block4_conv1 (Conv2D)        (None, 28, 28, 512)       1180160   \n",
            "_________________________________________________________________\n",
            "block4_conv2 (Conv2D)        (None, 28, 28, 512)       2359808   \n",
            "_________________________________________________________________\n",
            "block4_conv3 (Conv2D)        (None, 28, 28, 512)       2359808   \n",
            "_________________________________________________________________\n",
            "block4_pool (MaxPooling2D)   (None, 14, 14, 512)       0         \n",
            "_________________________________________________________________\n",
            "block5_conv1 (Conv2D)        (None, 14, 14, 512)       2359808   \n",
            "_________________________________________________________________\n",
            "block5_conv2 (Conv2D)        (None, 14, 14, 512)       2359808   \n",
            "_________________________________________________________________\n",
            "block5_conv3 (Conv2D)        (None, 14, 14, 512)       2359808   \n",
            "_________________________________________________________________\n",
            "block5_pool (MaxPooling2D)   (None, 7, 7, 512)         0         \n",
            "_________________________________________________________________\n",
            "flatten_6 (Flatten)          (None, 25088)             0         \n",
            "_________________________________________________________________\n",
            "dense_10 (Dense)             (None, 1000)              25089000  \n",
            "_________________________________________________________________\n",
            "leaky_re_lu_5 (LeakyReLU)    (None, 1000)              0         \n",
            "=================================================================\n",
            "Total params: 39,803,688\n",
            "Trainable params: 25,089,000\n",
            "Non-trainable params: 14,714,688\n",
            "_________________________________________________________________\n"
          ],
          "name": "stdout"
        }
      ]
    },
    {
      "cell_type": "code",
      "metadata": {
        "id": "mLMc9PaHnT9c",
        "colab_type": "code",
        "colab": {}
      },
      "source": [
        "# tell the model what cost and optimization method to use\n",
        "'''model.compile(\n",
        "  loss='categorical_crossentropy',\n",
        "  optimizer='adam',\n",
        "  metrics=['accuracy']\n",
        ")'''"
      ],
      "execution_count": 0,
      "outputs": []
    },
    {
      "cell_type": "code",
      "metadata": {
        "id": "oPiK-JcqnX_5",
        "colab_type": "code",
        "colab": {}
      },
      "source": [
        "train_datagen = ImageDataGenerator(rescale = 1./255,\n",
        "                                   shear_range = 0.2,\n",
        "                                   zoom_range = 0.2,\n",
        "                                   horizontal_flip = True)"
      ],
      "execution_count": 0,
      "outputs": []
    },
    {
      "cell_type": "code",
      "metadata": {
        "id": "u59gDdTLnc_B",
        "colab_type": "code",
        "outputId": "29a4f386-15c4-4067-f6b2-849a81ce4029",
        "colab": {
          "base_uri": "https://localhost:8080/",
          "height": 71
        }
      },
      "source": [
        "training_set = train_datagen.flow_from_directory('/content/output/train/',\n",
        "                                                 target_size = (224, 224),\n",
        "                                                 batch_size = batch_size,\n",
        "                                                 class_mode = 'categorical')\n",
        "\n",
        "'''training_set = train_datagen.flow_from_directory('/content/output/train/',\n",
        "                                                 target_size = (224, 224),\n",
        "                                                 batch_size = batch_size)'''"
      ],
      "execution_count": 0,
      "outputs": [
        {
          "output_type": "stream",
          "text": [
            "Found 4162 images belonging to 4 classes.\n"
          ],
          "name": "stdout"
        },
        {
          "output_type": "execute_result",
          "data": {
            "text/plain": [
              "\"training_set = train_datagen.flow_from_directory('/content/output/train/',\\n                                                 target_size = (224, 224),\\n                                                 batch_size = batch_size)\""
            ]
          },
          "metadata": {
            "tags": []
          },
          "execution_count": 13
        }
      ]
    },
    {
      "cell_type": "code",
      "metadata": {
        "id": "zAbzTejvnog6",
        "colab_type": "code",
        "colab": {}
      },
      "source": [
        "predict = model.predict_generator(training_set,steps = len(training_set))"
      ],
      "execution_count": 0,
      "outputs": []
    },
    {
      "cell_type": "code",
      "metadata": {
        "id": "IiIrf8uXsyD7",
        "colab_type": "code",
        "outputId": "21ecfba6-33bd-45e8-c166-c84732bdc79f",
        "colab": {
          "base_uri": "https://localhost:8080/",
          "height": 34
        }
      },
      "source": [
        "print(predict.shape)"
      ],
      "execution_count": 0,
      "outputs": [
        {
          "output_type": "stream",
          "text": [
            "(4162, 1000)\n"
          ],
          "name": "stdout"
        }
      ]
    },
    {
      "cell_type": "code",
      "metadata": {
        "id": "z0h8HT9hxVVs",
        "colab_type": "code",
        "outputId": "b7f8e3de-7ec3-45f7-94e7-3fc473e6d12e",
        "colab": {
          "base_uri": "https://localhost:8080/",
          "height": 34
        }
      },
      "source": [
        "labels = np.full(predict.shape[0],1)\n",
        "train1Set = np.concatenate((predict,np.asarray([labels]).T), axis=1)\n",
        "print(train1Set.shape)"
      ],
      "execution_count": 0,
      "outputs": [
        {
          "output_type": "stream",
          "text": [
            "(4162, 1001)\n"
          ],
          "name": "stdout"
        }
      ]
    },
    {
      "cell_type": "code",
      "metadata": {
        "id": "U8Z5eOXYxwMp",
        "colab_type": "code",
        "colab": {}
      },
      "source": [
        "#np.savetxt('train1Set.csv',train1Set, delimiter=',',fmt='%.15f')"
      ],
      "execution_count": 0,
      "outputs": []
    },
    {
      "cell_type": "code",
      "metadata": {
        "id": "rk1IQAVczb_m",
        "colab_type": "code",
        "outputId": "4038cb59-3131-4dc0-ba52-cb81012af2f1",
        "colab": {
          "base_uri": "https://localhost:8080/",
          "height": 34
        }
      },
      "source": [
        "training_set = train_datagen.flow_from_directory('/content/NOA/train/',target_size = (224, 224),\n",
        "                                                 batch_size = batch_size)"
      ],
      "execution_count": 0,
      "outputs": [
        {
          "output_type": "stream",
          "text": [
            "Found 943 images belonging to 1 classes.\n"
          ],
          "name": "stdout"
        }
      ]
    },
    {
      "cell_type": "code",
      "metadata": {
        "id": "uO0K29_1zq5s",
        "colab_type": "code",
        "colab": {}
      },
      "source": [
        "predict = model.predict_generator(training_set,steps = len(training_set))"
      ],
      "execution_count": 0,
      "outputs": []
    },
    {
      "cell_type": "code",
      "metadata": {
        "id": "_vn3tuLrzz0K",
        "colab_type": "code",
        "outputId": "bddda086-4474-4280-fc63-db9d242ea511",
        "colab": {
          "base_uri": "https://localhost:8080/",
          "height": 34
        }
      },
      "source": [
        "labels = np.full(predict.shape[0],0,np.float32)\n",
        "train0Set = np.concatenate((predict,np.asarray([labels]).T), axis=1)\n",
        "print(train0Set.shape)"
      ],
      "execution_count": 0,
      "outputs": [
        {
          "output_type": "stream",
          "text": [
            "(943, 1001)\n"
          ],
          "name": "stdout"
        }
      ]
    },
    {
      "cell_type": "code",
      "metadata": {
        "id": "1J0iAdKP0uC2",
        "colab_type": "code",
        "colab": {}
      },
      "source": [
        "#np.savetxt('train0Set.csv',train1Set, delimiter=',',fmt='%.15f')"
      ],
      "execution_count": 0,
      "outputs": []
    },
    {
      "cell_type": "code",
      "metadata": {
        "id": "jXQQZZtX02Ta",
        "colab_type": "code",
        "outputId": "ffee83cf-2167-44ce-bec6-6ae1fbeede15",
        "colab": {
          "base_uri": "https://localhost:8080/",
          "height": 34
        }
      },
      "source": [
        "trainData = np.concatenate((train1Set,train0Set), axis=0)\n",
        "print(trainData.shape)"
      ],
      "execution_count": 0,
      "outputs": [
        {
          "output_type": "stream",
          "text": [
            "(5105, 1001)\n"
          ],
          "name": "stdout"
        }
      ]
    },
    {
      "cell_type": "code",
      "metadata": {
        "id": "8bg2fv-vNdvl",
        "colab_type": "code",
        "colab": {}
      },
      "source": [
        "#np.savetxt('trainData.csv',trainData, delimiter=',',fmt='%.15f')"
      ],
      "execution_count": 0,
      "outputs": []
    },
    {
      "cell_type": "code",
      "metadata": {
        "id": "oSfBLUFU5RVR",
        "colab_type": "code",
        "outputId": "6dd9a909-02ef-4e51-ef94-5e2bc49612e5",
        "colab": {
          "base_uri": "https://localhost:8080/",
          "height": 51
        }
      },
      "source": [
        "X = trainData[:,:-1]\n",
        "Y = trainData[:,-1]\n",
        "print(X.shape)\n",
        "print(Y.shape)"
      ],
      "execution_count": 0,
      "outputs": [
        {
          "output_type": "stream",
          "text": [
            "(5105, 1000)\n",
            "(5105,)\n"
          ],
          "name": "stdout"
        }
      ]
    },
    {
      "cell_type": "code",
      "metadata": {
        "id": "uITJ2oEk5Bfe",
        "colab_type": "code",
        "outputId": "7012c2ef-27b9-4e8c-d66e-cfe043921416",
        "colab": {
          "base_uri": "https://localhost:8080/",
          "height": 102
        }
      },
      "source": [
        "'''from sklearn.linear_model import LogisticRegression\n",
        "clf = LogisticRegression(random_state=0,solver='saga',max_iter=5000)'''"
      ],
      "execution_count": 0,
      "outputs": [
        {
          "output_type": "execute_result",
          "data": {
            "text/plain": [
              "LogisticRegression(C=1.0, class_weight=None, dual=False, fit_intercept=True,\n",
              "                   intercept_scaling=1, l1_ratio=None, max_iter=5000,\n",
              "                   multi_class='auto', n_jobs=None, penalty='l2',\n",
              "                   random_state=0, solver='saga', tol=0.0001, verbose=0,\n",
              "                   warm_start=False)"
            ]
          },
          "metadata": {
            "tags": []
          },
          "execution_count": 26
        }
      ]
    },
    {
      "cell_type": "code",
      "metadata": {
        "id": "CxKpBY27c9WQ",
        "colab_type": "code",
        "colab": {}
      },
      "source": [
        "from sklearn import svm\n",
        "svm_c = 0.01\n",
        "svm_gamma = 1\n",
        "svm_kernal = 'rbf'\n",
        "clf = svm.SVC(C=svm_c,kernel=svm_kernal,gamma=svm_gamma)"
      ],
      "execution_count": 0,
      "outputs": []
    },
    {
      "cell_type": "code",
      "metadata": {
        "id": "StgBZDsAdFzY",
        "colab_type": "code",
        "colab": {}
      },
      "source": [
        "clf.fit(X, Y)"
      ],
      "execution_count": 0,
      "outputs": []
    },
    {
      "cell_type": "code",
      "metadata": {
        "id": "z5cqgJ-gXzMJ",
        "colab_type": "code",
        "colab": {}
      },
      "source": [
        "pickle.dump(clf, open('logRModel.sav', 'wb'))"
      ],
      "execution_count": 0,
      "outputs": []
    },
    {
      "cell_type": "code",
      "metadata": {
        "id": "kJo2ZhAdYCfa",
        "colab_type": "code",
        "colab": {}
      },
      "source": [
        "!cp logRModel.sav '/content/drive/My Drive/temp/VGG'"
      ],
      "execution_count": 0,
      "outputs": []
    },
    {
      "cell_type": "markdown",
      "metadata": {
        "id": "_6-NwEYtLxPk",
        "colab_type": "text"
      },
      "source": [
        "# **Testing**"
      ]
    },
    {
      "cell_type": "code",
      "metadata": {
        "id": "wa0kgz24LuwO",
        "colab_type": "code",
        "colab": {}
      },
      "source": [
        "val_datagen = ImageDataGenerator(rescale = 1./255)"
      ],
      "execution_count": 0,
      "outputs": []
    },
    {
      "cell_type": "code",
      "metadata": {
        "id": "utE99YofL7wi",
        "colab_type": "code",
        "outputId": "5189c226-5a12-4eee-c0a5-da78eb818bd4",
        "colab": {
          "base_uri": "https://localhost:8080/",
          "height": 34
        }
      },
      "source": [
        "validation_set = val_datagen.flow_from_directory('/content/output/val/',\n",
        "                                            target_size = (224, 224),\n",
        "                                            batch_size = batch_size,\n",
        "                                            class_mode = 'categorical')"
      ],
      "execution_count": 0,
      "outputs": [
        {
          "output_type": "stream",
          "text": [
            "Found 1042 images belonging to 4 classes.\n"
          ],
          "name": "stdout"
        }
      ]
    },
    {
      "cell_type": "code",
      "metadata": {
        "id": "_QU7A0MzMBCr",
        "colab_type": "code",
        "colab": {}
      },
      "source": [
        "predict = model.predict_generator(validation_set,steps = len(validation_set))"
      ],
      "execution_count": 0,
      "outputs": []
    },
    {
      "cell_type": "code",
      "metadata": {
        "id": "H_xYH0RQMF7p",
        "colab_type": "code",
        "outputId": "d1df9f03-43c6-4ec8-b34a-3b6ed7fd2d5c",
        "colab": {
          "base_uri": "https://localhost:8080/",
          "height": 34
        }
      },
      "source": [
        "print(predict.shape)"
      ],
      "execution_count": 0,
      "outputs": [
        {
          "output_type": "stream",
          "text": [
            "(1042, 1000)\n"
          ],
          "name": "stdout"
        }
      ]
    },
    {
      "cell_type": "code",
      "metadata": {
        "id": "kjUv8h1UMI1k",
        "colab_type": "code",
        "outputId": "835e0a1e-96a5-467e-e066-842d1b2bcd1e",
        "colab": {
          "base_uri": "https://localhost:8080/",
          "height": 34
        }
      },
      "source": [
        "labels = np.full(predict.shape[0],1,np.float32)\n",
        "test1Set = np.concatenate((predict,np.asarray([labels]).T), axis=1)\n",
        "print(test1Set.shape)"
      ],
      "execution_count": 0,
      "outputs": [
        {
          "output_type": "stream",
          "text": [
            "(1042, 1001)\n"
          ],
          "name": "stdout"
        }
      ]
    },
    {
      "cell_type": "code",
      "metadata": {
        "id": "4_AttSJ7MPkh",
        "colab_type": "code",
        "colab": {}
      },
      "source": [
        "#np.savetxt('test1Set.csv',test1Set, delimiter=',',fmt='%.15f')"
      ],
      "execution_count": 0,
      "outputs": []
    },
    {
      "cell_type": "code",
      "metadata": {
        "id": "hI_x84ZFMqMB",
        "colab_type": "code",
        "outputId": "9d850c90-a950-474d-dfbc-0d106d410d82",
        "colab": {
          "base_uri": "https://localhost:8080/",
          "height": 34
        }
      },
      "source": [
        "validation_set = val_datagen.flow_from_directory('/content/NOA/val/',\n",
        "                                            target_size = (224, 224),\n",
        "                                            batch_size = batch_size)"
      ],
      "execution_count": 0,
      "outputs": [
        {
          "output_type": "stream",
          "text": [
            "Found 236 images belonging to 1 classes.\n"
          ],
          "name": "stdout"
        }
      ]
    },
    {
      "cell_type": "code",
      "metadata": {
        "id": "aYBfjEk1M0hh",
        "colab_type": "code",
        "colab": {}
      },
      "source": [
        "predict = model.predict_generator(validation_set,steps = len(validation_set))"
      ],
      "execution_count": 0,
      "outputs": []
    },
    {
      "cell_type": "code",
      "metadata": {
        "id": "DS0rHlA2M3yD",
        "colab_type": "code",
        "outputId": "49073c67-9afd-45f5-e618-11495569bd8b",
        "colab": {
          "base_uri": "https://localhost:8080/",
          "height": 34
        }
      },
      "source": [
        "labels = np.full(predict.shape[0],0)\n",
        "test0Set = np.concatenate((predict,np.asarray([labels]).T), axis=1)\n",
        "print(test0Set.shape)"
      ],
      "execution_count": 0,
      "outputs": [
        {
          "output_type": "stream",
          "text": [
            "(236, 1001)\n"
          ],
          "name": "stdout"
        }
      ]
    },
    {
      "cell_type": "code",
      "metadata": {
        "id": "mf7k4CxXM5mm",
        "colab_type": "code",
        "colab": {}
      },
      "source": [
        "#np.savetxt('test0Set.csv',test0Set, delimiter=',',fmt='%.15f')"
      ],
      "execution_count": 0,
      "outputs": []
    },
    {
      "cell_type": "code",
      "metadata": {
        "id": "Nhb4a5oNM7hr",
        "colab_type": "code",
        "outputId": "800ead64-ebbf-4554-b7a2-e203fbdf21ae",
        "colab": {
          "base_uri": "https://localhost:8080/",
          "height": 34
        }
      },
      "source": [
        "testData = np.concatenate((test1Set,test0Set), axis=0)\n",
        "print(testData.shape)"
      ],
      "execution_count": 0,
      "outputs": [
        {
          "output_type": "stream",
          "text": [
            "(1278, 1001)\n"
          ],
          "name": "stdout"
        }
      ]
    },
    {
      "cell_type": "code",
      "metadata": {
        "id": "R98uMxLvNiOa",
        "colab_type": "code",
        "colab": {}
      },
      "source": [
        "#np.savetxt('testData.csv',testData, delimiter=',',fmt='%.15f')"
      ],
      "execution_count": 0,
      "outputs": []
    },
    {
      "cell_type": "code",
      "metadata": {
        "id": "Xpg-4UaPM972",
        "colab_type": "code",
        "outputId": "8e5c7ad9-a464-48fb-9ccf-cee8d32ccd70",
        "colab": {
          "base_uri": "https://localhost:8080/",
          "height": 51
        }
      },
      "source": [
        "testX = testData[:,:-1]\n",
        "testY = testData[:,-1]\n",
        "print(testX.shape)\n",
        "print(testY.shape)"
      ],
      "execution_count": 0,
      "outputs": [
        {
          "output_type": "stream",
          "text": [
            "(1278, 1000)\n",
            "(1278,)\n"
          ],
          "name": "stdout"
        }
      ]
    },
    {
      "cell_type": "code",
      "metadata": {
        "id": "y8VjBiL9PL_b",
        "colab_type": "code",
        "colab": {}
      },
      "source": [
        "#clf = pickle.load(open('logRModel.sav', 'rb'))"
      ],
      "execution_count": 0,
      "outputs": []
    },
    {
      "cell_type": "code",
      "metadata": {
        "id": "X-Aaw_iKPJFc",
        "colab_type": "code",
        "colab": {}
      },
      "source": [
        "acc = clf.score(testX,testY)"
      ],
      "execution_count": 0,
      "outputs": []
    },
    {
      "cell_type": "code",
      "metadata": {
        "id": "8s0BEoIQksNu",
        "colab_type": "code",
        "colab": {}
      },
      "source": [
        "print(acc)"
      ],
      "execution_count": 0,
      "outputs": []
    }
  ]
}